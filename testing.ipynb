{
 "cells": [
  {
   "cell_type": "code",
   "execution_count": 1,
   "metadata": {},
   "outputs": [
    {
     "name": "stdout",
     "output_type": "stream",
     "text": [
      "Template: I thought this movie was {ADJ}, I {VERB} it.\n",
      "Marker: {ADJ}\n",
      "Regex: I\\ thought\\ this\\ movie\\ was\\ (.*?),\\ I\\ \\{VERB\\}\\ it\\.\n",
      "Text: I thought this movie was incredible, I loved it.\n"
     ]
    },
    {
     "ename": "ValueError",
     "evalue": "Text does not match template: I thought this movie was incredible, I loved it.",
     "output_type": "error",
     "traceback": [
      "\u001b[0;31m---------------------------------------------------------------------------\u001b[0m",
      "\u001b[0;31mValueError\u001b[0m                                Traceback (most recent call last)",
      "Cell \u001b[0;32mIn[1], line 23\u001b[0m\n\u001b[1;32m     16\u001b[0m movie_dataset \u001b[38;5;241m=\u001b[39m TemplatedDataset\u001b[38;5;241m.\u001b[39mfrom_movie_sentiment_template(\n\u001b[1;32m     17\u001b[0m     adjectives\u001b[38;5;241m=\u001b[39madjectives,\n\u001b[1;32m     18\u001b[0m     verbs\u001b[38;5;241m=\u001b[39mverbs\n\u001b[1;32m     19\u001b[0m )\n\u001b[1;32m     21\u001b[0m \u001b[38;5;66;03m# Convert to probing dataset with automatic position finding\u001b[39;00m\n\u001b[1;32m     22\u001b[0m \u001b[38;5;66;03m# and label mapping from sentiment metadata\u001b[39;00m\n\u001b[0;32m---> 23\u001b[0m probing_dataset \u001b[38;5;241m=\u001b[39m \u001b[43mmovie_dataset\u001b[49m\u001b[38;5;241;43m.\u001b[39;49m\u001b[43mto_probing_dataset\u001b[49m\u001b[43m(\u001b[49m\n\u001b[1;32m     24\u001b[0m \u001b[43m    \u001b[49m\u001b[43mlabel_from_metadata\u001b[49m\u001b[38;5;241;43m=\u001b[39;49m\u001b[38;5;124;43m\"\u001b[39;49m\u001b[38;5;124;43msentiment\u001b[39;49m\u001b[38;5;124;43m\"\u001b[39;49m\u001b[43m,\u001b[49m\n\u001b[1;32m     25\u001b[0m \u001b[43m    \u001b[49m\u001b[43mlabel_map\u001b[49m\u001b[38;5;241;43m=\u001b[39;49m\u001b[43m{\u001b[49m\u001b[38;5;124;43m\"\u001b[39;49m\u001b[38;5;124;43mpositive\u001b[39;49m\u001b[38;5;124;43m\"\u001b[39;49m\u001b[43m:\u001b[49m\u001b[43m \u001b[49m\u001b[38;5;241;43m1\u001b[39;49m\u001b[43m,\u001b[49m\u001b[43m \u001b[49m\u001b[38;5;124;43m\"\u001b[39;49m\u001b[38;5;124;43mnegative\u001b[39;49m\u001b[38;5;124;43m\"\u001b[39;49m\u001b[43m:\u001b[49m\u001b[43m \u001b[49m\u001b[38;5;241;43m0\u001b[39;49m\u001b[43m}\u001b[49m\u001b[43m,\u001b[49m\n\u001b[1;32m     26\u001b[0m \u001b[43m    \u001b[49m\u001b[43mauto_add_positions\u001b[49m\u001b[38;5;241;43m=\u001b[39;49m\u001b[38;5;28;43;01mTrue\u001b[39;49;00m\n\u001b[1;32m     27\u001b[0m \u001b[43m)\u001b[49m\n\u001b[1;32m     29\u001b[0m \u001b[38;5;66;03m# Convert to tokenized dataset\u001b[39;00m\n\u001b[1;32m     30\u001b[0m tokenizer \u001b[38;5;241m=\u001b[39m AutoTokenizer\u001b[38;5;241m.\u001b[39mfrom_pretrained(\u001b[38;5;124m\"\u001b[39m\u001b[38;5;124mgpt2\u001b[39m\u001b[38;5;124m\"\u001b[39m)\n",
      "File \u001b[0;32m~/Projects/probity/probity/probing/datasets/templated.py:129\u001b[0m, in \u001b[0;36mTemplatedDataset.to_probing_dataset\u001b[0;34m(self, label_from_metadata, label_map, auto_add_positions)\u001b[0m\n\u001b[1;32m    124\u001b[0m         \u001b[38;5;28;01mfor\u001b[39;00m var_name \u001b[38;5;129;01min\u001b[39;00m template\u001b[38;5;241m.\u001b[39mvariables:\n\u001b[1;32m    125\u001b[0m             finder \u001b[38;5;241m=\u001b[39m PositionFinder\u001b[38;5;241m.\u001b[39mfrom_template(\n\u001b[1;32m    126\u001b[0m                 template\u001b[38;5;241m=\u001b[39mtemplate\u001b[38;5;241m.\u001b[39mtemplate,\n\u001b[1;32m    127\u001b[0m                 marker\u001b[38;5;241m=\u001b[39mtemplate\u001b[38;5;241m.\u001b[39mget_marker(var_name)\n\u001b[1;32m    128\u001b[0m             )\n\u001b[0;32m--> 129\u001b[0m             \u001b[43mdataset\u001b[49m\u001b[38;5;241;43m.\u001b[39;49m\u001b[43madd_target_positions\u001b[49m\u001b[43m(\u001b[49m\u001b[43mkey\u001b[49m\u001b[38;5;241;43m=\u001b[39;49m\u001b[43mvar_name\u001b[49m\u001b[43m,\u001b[49m\u001b[43m \u001b[49m\u001b[43mfinder\u001b[49m\u001b[38;5;241;43m=\u001b[39;49m\u001b[43mfinder\u001b[49m\u001b[43m)\u001b[49m\n\u001b[1;32m    131\u001b[0m \u001b[38;5;28;01mreturn\u001b[39;00m dataset\n",
      "File \u001b[0;32m~/Projects/probity/probity/probing/datasets/base.py:61\u001b[0m, in \u001b[0;36mProbingDataset.add_target_positions\u001b[0;34m(self, key, finder)\u001b[0m\n\u001b[1;32m     54\u001b[0m \u001b[38;5;250m\u001b[39m\u001b[38;5;124;03m\"\"\"Add target positions using a finding strategy.\u001b[39;00m\n\u001b[1;32m     55\u001b[0m \n\u001b[1;32m     56\u001b[0m \u001b[38;5;124;03mArgs:\u001b[39;00m\n\u001b[1;32m     57\u001b[0m \u001b[38;5;124;03m    key: Name for this set of positions\u001b[39;00m\n\u001b[1;32m     58\u001b[0m \u001b[38;5;124;03m    finder: Function that finds positions in text\u001b[39;00m\n\u001b[1;32m     59\u001b[0m \u001b[38;5;124;03m\"\"\"\u001b[39;00m\n\u001b[1;32m     60\u001b[0m \u001b[38;5;28;01mfor\u001b[39;00m example \u001b[38;5;129;01min\u001b[39;00m \u001b[38;5;28mself\u001b[39m\u001b[38;5;241m.\u001b[39mexamples:\n\u001b[0;32m---> 61\u001b[0m     positions \u001b[38;5;241m=\u001b[39m \u001b[43mfinder\u001b[49m\u001b[43m(\u001b[49m\u001b[43mexample\u001b[49m\u001b[38;5;241;43m.\u001b[39;49m\u001b[43mtext\u001b[49m\u001b[43m)\u001b[49m\n\u001b[1;32m     63\u001b[0m     \u001b[38;5;66;03m# Initialize character_positions if needed\u001b[39;00m\n\u001b[1;32m     64\u001b[0m     \u001b[38;5;28;01mif\u001b[39;00m example\u001b[38;5;241m.\u001b[39mcharacter_positions \u001b[38;5;129;01mis\u001b[39;00m \u001b[38;5;28;01mNone\u001b[39;00m:\n",
      "File \u001b[0;32m~/Projects/probity/probity/probing/datasets/position_finder.py:43\u001b[0m, in \u001b[0;36mPositionFinder.from_template.<locals>.finder\u001b[0;34m(text)\u001b[0m\n\u001b[1;32m     41\u001b[0m match \u001b[38;5;241m=\u001b[39m re\u001b[38;5;241m.\u001b[39mmatch(regex, text)\n\u001b[1;32m     42\u001b[0m \u001b[38;5;28;01mif\u001b[39;00m \u001b[38;5;129;01mnot\u001b[39;00m match:\n\u001b[0;32m---> 43\u001b[0m     \u001b[38;5;28;01mraise\u001b[39;00m \u001b[38;5;167;01mValueError\u001b[39;00m(\u001b[38;5;124mf\u001b[39m\u001b[38;5;124m\"\u001b[39m\u001b[38;5;124mText does not match template: \u001b[39m\u001b[38;5;132;01m{\u001b[39;00mtext\u001b[38;5;132;01m}\u001b[39;00m\u001b[38;5;124m\"\u001b[39m)\n\u001b[1;32m     45\u001b[0m \u001b[38;5;66;03m# Get the position of the matching group\u001b[39;00m\n\u001b[1;32m     46\u001b[0m start \u001b[38;5;241m=\u001b[39m match\u001b[38;5;241m.\u001b[39mstart(\u001b[38;5;241m1\u001b[39m)\n",
      "\u001b[0;31mValueError\u001b[0m: Text does not match template: I thought this movie was incredible, I loved it."
     ]
    }
   ],
   "source": [
    "from probity.probing.datasets.templated import TemplatedDataset\n",
    "from probity.probing.datasets.tokenized import TokenizedProbingDataset\n",
    "from transformers import AutoTokenizer\n",
    "\n",
    "# Create movie sentiment dataset\n",
    "adjectives = {\n",
    "    \"positive\": [\"incredible\", \"amazing\", \"fantastic\"],\n",
    "    \"negative\": [\"terrible\", \"awful\", \"horrible\"]\n",
    "}\n",
    "verbs = {\n",
    "    \"positive\": [\"loved\", \"enjoyed\", \"adored\"],\n",
    "    \"negative\": [\"hated\", \"disliked\", \"detested\"]\n",
    "}\n",
    "\n",
    "# Create dataset using factory method\n",
    "movie_dataset = TemplatedDataset.from_movie_sentiment_template(\n",
    "    adjectives=adjectives,\n",
    "    verbs=verbs\n",
    ")\n",
    "\n",
    "# Convert to probing dataset with automatic position finding\n",
    "# and label mapping from sentiment metadata\n",
    "probing_dataset = movie_dataset.to_probing_dataset(\n",
    "    label_from_metadata=\"sentiment\",\n",
    "    label_map={\"positive\": 1, \"negative\": 0},\n",
    "    auto_add_positions=True\n",
    ")\n",
    "\n",
    "# Convert to tokenized dataset\n",
    "tokenizer = AutoTokenizer.from_pretrained(\"gpt2\")\n",
    "tokenized_dataset = TokenizedProbingDataset.from_probing_dataset(\n",
    "    dataset=probing_dataset,\n",
    "    tokenizer=tokenizer\n",
    ")\n",
    "\n"
   ]
  },
  {
   "cell_type": "code",
   "execution_count": null,
   "metadata": {},
   "outputs": [],
   "source": [
    "# Or create a custom template\n",
    "from probity.probing.datasets.templated import Template, TemplateVariable\n",
    "\n",
    "# Create variables\n",
    "subject = TemplateVariable(\n",
    "    name=\"SUBJECT\",\n",
    "    values=[\"The cat\", \"The dog\"],\n",
    "    metadata={\"entity_type\": \"animal\"}\n",
    ")\n",
    "\n",
    "action = TemplateVariable(\n",
    "    name=\"ACTION\",\n",
    "    values=[\"jumped over\", \"ran under\"],\n",
    "    metadata={\"movement_type\": \"locomotion\"}\n",
    ")\n",
    "\n",
    "object_var = TemplateVariable(\n",
    "    name=\"OBJECT\",\n",
    "    values=[\"the fence\", \"the table\"],\n",
    "    metadata={\"object_type\": \"barrier\"}\n",
    ")\n",
    "\n",
    "# Create template\n",
    "template = Template(\n",
    "    template=\"{SUBJECT} {ACTION} {OBJECT}.\",\n",
    "    variables={\n",
    "        \"SUBJECT\": subject,\n",
    "        \"ACTION\": action,\n",
    "        \"OBJECT\": object_var\n",
    "    },\n",
    "    metadata={\"task\": \"entity_movement\"}\n",
    ")\n",
    "\n",
    "# Create dataset\n",
    "custom_dataset = TemplatedDataset(templates=[template])\n",
    "\n",
    "# Convert to probing dataset\n",
    "probing_dataset = custom_dataset.to_probing_dataset(auto_add_positions=True)"
   ]
  }
 ],
 "metadata": {
  "kernelspec": {
   "display_name": "sae-l",
   "language": "python",
   "name": "python3"
  },
  "language_info": {
   "codemirror_mode": {
    "name": "ipython",
    "version": 3
   },
   "file_extension": ".py",
   "mimetype": "text/x-python",
   "name": "python",
   "nbconvert_exporter": "python",
   "pygments_lexer": "ipython3",
   "version": "3.12.4"
  }
 },
 "nbformat": 4,
 "nbformat_minor": 2
}
