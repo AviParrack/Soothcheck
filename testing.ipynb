{
 "cells": [
  {
   "cell_type": "markdown",
   "metadata": {},
   "source": [
    "## Dataset Creation"
   ]
  },
  {
   "cell_type": "code",
   "execution_count": 1,
   "metadata": {},
   "outputs": [
    {
     "name": "stderr",
     "output_type": "stream",
     "text": [
      "Note: Environment variable`HF_TOKEN` is set and is the current active token independently from the token you've just configured.\n"
     ]
    }
   ],
   "source": [
    "from huggingface_hub import login\n",
    "login(token=\"\")\n"
   ]
  },
  {
   "cell_type": "code",
   "execution_count": 2,
   "metadata": {},
   "outputs": [],
   "source": [
    "from probity.probing.datasets.templated import TemplatedDataset\n",
    "from probity.probing.datasets.tokenized import TokenizedProbingDataset\n",
    "from transformers import AutoTokenizer\n",
    "\n",
    "# Create movie sentiment dataset\n",
    "adjectives = {\n",
    "    \"positive\": [\"incredible\", \"amazing\", \"fantastic\"],\n",
    "    \"negative\": [\"terrible\", \"awful\", \"horrible\"]\n",
    "}\n",
    "verbs = {\n",
    "    \"positive\": [\"loved\", \"enjoyed\", \"adored\"],\n",
    "    \"negative\": [\"hated\", \"disliked\", \"detested\"]\n",
    "}\n",
    "\n",
    "# Create dataset using factory method\n",
    "movie_dataset = TemplatedDataset.from_movie_sentiment_template(\n",
    "    adjectives=adjectives,\n",
    "    verbs=verbs\n",
    ")\n",
    "\n",
    "# Convert to probing dataset with automatic position finding\n",
    "# and label mapping from sentiment metadata\n",
    "probing_dataset = movie_dataset.to_probing_dataset(\n",
    "    label_from_metadata=\"sentiment\",\n",
    "    label_map={\"positive\": 1, \"negative\": 0},\n",
    "    auto_add_positions=True\n",
    ")\n",
    "\n",
    "# Convert to tokenized dataset\n",
    "tokenizer = AutoTokenizer.from_pretrained(\"google/gemma-2-2b\")\n",
    "tokenized_dataset = TokenizedProbingDataset.from_probing_dataset(\n",
    "    dataset=probing_dataset,\n",
    "    tokenizer=tokenizer\n",
    ")\n",
    "\n"
   ]
  },
  {
   "cell_type": "code",
   "execution_count": 3,
   "metadata": {},
   "outputs": [
    {
     "name": "stdout",
     "output_type": "stream",
     "text": [
      "Probing Dataset Example:\n",
      "Text: I thought this movie was fantastic, I enjoyed it.\n",
      "Label: 1\n",
      "Label Text: positive\n",
      "Character Positions: CharacterPositions(positions={'ADJ': Position(start=25, end=34), 'VERB': Position(start=38, end=45)})\n",
      "Metadata: {'template': 'I thought this movie was {ADJ}, I {VERB} it.', 'variables': {'ADJ': {'sentiment': ['positive', 'positive', 'positive', 'negative', 'negative', 'negative']}, 'VERB': {'sentiment': ['positive', 'positive', 'positive', 'negative', 'negative', 'negative']}}, 'class': 'positive', 'task': 'sentiment_classification'}\n",
      "\n",
      "Tokenized Dataset Example:\n",
      "Text: I thought this movie was fantastic, I enjoyed it.\n",
      "Label: 1\n",
      "Label Text: positive\n",
      "Token Positions: TokenPositions(positions={'ADJ': 6, 'VERB': 9})\n",
      "Tokens: [2, 235285, 3421, 736, 7344, 729, 15814, 235269, 590, 13177, 665, 235265]\n",
      "Attention Mask: [1, 1, 1, 1, 1, 1, 1, 1, 1, 1, 1, 1]\n",
      "Metadata: {'template': 'I thought this movie was {ADJ}, I {VERB} it.', 'variables': {'ADJ': {'sentiment': ['positive', 'positive', 'positive', 'negative', 'negative', 'negative']}, 'VERB': {'sentiment': ['positive', 'positive', 'positive', 'negative', 'negative', 'negative']}}, 'class': 'positive', 'task': 'sentiment_classification'}\n"
     ]
    }
   ],
   "source": [
    "# Get an example from the probing dataset\n",
    "probing_example = probing_dataset.examples[16]\n",
    "print(\"Probing Dataset Example:\")\n",
    "print(f\"Text: {probing_example.text}\")\n",
    "print(f\"Label: {probing_example.label}\")\n",
    "print(f\"Label Text: {probing_example.label_text}\")\n",
    "print(f\"Character Positions: {probing_example.character_positions}\")\n",
    "print(f\"Metadata: {probing_example.metadata}\\n\")\n",
    "\n",
    "# Get an example from the tokenized dataset \n",
    "tokenized_example = tokenized_dataset.examples[16]\n",
    "print(\"Tokenized Dataset Example:\")\n",
    "print(f\"Text: {tokenized_example.text}\")\n",
    "print(f\"Label: {tokenized_example.label}\")\n",
    "print(f\"Label Text: {tokenized_example.label_text}\")\n",
    "print(f\"Token Positions: {tokenized_example.token_positions}\")\n",
    "print(f\"Tokens: {tokenized_example.tokens}\")\n",
    "print(f\"Attention Mask: {tokenized_example.attention_mask}\")\n",
    "print(f\"Metadata: {tokenized_example.metadata}\")\n"
   ]
  },
  {
   "cell_type": "code",
   "execution_count": 4,
   "metadata": {},
   "outputs": [
    {
     "name": "stdout",
     "output_type": "stream",
     "text": [
      "\n",
      "Full text: I thought this movie was terrible, I hated it.\n",
      "Decoded tokens at positions:\n",
      "  ADJ:  terrible\n",
      "  VERB:  hated\n",
      "\n",
      "Full text: I thought this movie was terrible, I disliked it.\n",
      "Decoded tokens at positions:\n",
      "  ADJ:  terrible\n",
      "  VERB:  disliked\n",
      "\n",
      "Full text: I thought this movie was terrible, I detested it.\n",
      "Decoded tokens at positions:\n",
      "  ADJ:  terrible\n",
      "  VERB:  de\n",
      "\n",
      "Full text: I thought this movie was awful, I hated it.\n",
      "Decoded tokens at positions:\n",
      "  ADJ:  awful\n",
      "  VERB:  hated\n",
      "\n",
      "Full text: I thought this movie was awful, I disliked it.\n",
      "Decoded tokens at positions:\n",
      "  ADJ:  awful\n",
      "  VERB:  disliked\n",
      "\n",
      "Full text: I thought this movie was awful, I detested it.\n",
      "Decoded tokens at positions:\n",
      "  ADJ:  awful\n",
      "  VERB:  de\n",
      "\n",
      "Full text: I thought this movie was horrible, I hated it.\n",
      "Decoded tokens at positions:\n",
      "  ADJ:  horrible\n",
      "  VERB:  hated\n",
      "\n",
      "Full text: I thought this movie was horrible, I disliked it.\n",
      "Decoded tokens at positions:\n",
      "  ADJ:  horrible\n",
      "  VERB:  disliked\n",
      "\n",
      "Full text: I thought this movie was horrible, I detested it.\n",
      "Decoded tokens at positions:\n",
      "  ADJ:  horrible\n",
      "  VERB:  de\n",
      "\n",
      "Full text: I thought this movie was incredible, I loved it.\n",
      "Decoded tokens at positions:\n",
      "  ADJ:  incredible\n",
      "  VERB:  loved\n",
      "\n",
      "Full text: I thought this movie was incredible, I enjoyed it.\n",
      "Decoded tokens at positions:\n",
      "  ADJ:  incredible\n",
      "  VERB:  enjoyed\n",
      "\n",
      "Full text: I thought this movie was incredible, I adored it.\n",
      "Decoded tokens at positions:\n",
      "  ADJ:  incredible\n",
      "  VERB:  adored\n",
      "\n",
      "Full text: I thought this movie was amazing, I loved it.\n",
      "Decoded tokens at positions:\n",
      "  ADJ:  amazing\n",
      "  VERB:  loved\n",
      "\n",
      "Full text: I thought this movie was amazing, I enjoyed it.\n",
      "Decoded tokens at positions:\n",
      "  ADJ:  amazing\n",
      "  VERB:  enjoyed\n",
      "\n",
      "Full text: I thought this movie was amazing, I adored it.\n",
      "Decoded tokens at positions:\n",
      "  ADJ:  amazing\n",
      "  VERB:  adored\n",
      "\n",
      "Full text: I thought this movie was fantastic, I loved it.\n",
      "Decoded tokens at positions:\n",
      "  ADJ:  fantastic\n",
      "  VERB:  loved\n",
      "\n",
      "Full text: I thought this movie was fantastic, I enjoyed it.\n",
      "Decoded tokens at positions:\n",
      "  ADJ:  fantastic\n",
      "  VERB:  enjoyed\n",
      "\n",
      "Full text: I thought this movie was fantastic, I adored it.\n",
      "Decoded tokens at positions:\n",
      "  ADJ:  fantastic\n",
      "  VERB:  adored\n"
     ]
    }
   ],
   "source": [
    "# Loop through dataset and decode token positions\n",
    "for example in tokenized_dataset.examples:\n",
    "    print(f\"\\nFull text: {example.text}\")\n",
    "    print(\"Decoded tokens at positions:\")\n",
    "    for pos_key in example.token_positions.keys():\n",
    "        pos = example.token_positions[pos_key]\n",
    "        decoded = tokenizer.decode(example.tokens[pos])\n",
    "        print(f\"  {pos_key}: {decoded}\")\n"
   ]
  },
  {
   "cell_type": "code",
   "execution_count": 4,
   "metadata": {},
   "outputs": [
    {
     "data": {
      "text/plain": [
       "'horrible'"
      ]
     },
     "execution_count": 4,
     "metadata": {},
     "output_type": "execute_result"
    }
   ],
   "source": [
    "probing_example.text[probing_example.character_positions['ADJ'].start:probing_example.character_positions['ADJ'].end]\n"
   ]
  },
  {
   "cell_type": "code",
   "execution_count": 9,
   "metadata": {},
   "outputs": [],
   "source": [
    "# Or create a custom template\n",
    "from probity.probing.datasets.templated import Template, TemplateVariable\n",
    "\n",
    "# Create variables\n",
    "subject = TemplateVariable(\n",
    "    name=\"SUBJECT\",\n",
    "    values=[\"cat\", \"dog\"],\n",
    "    metadata={\"entity_type\": \"animal\"}\n",
    ")\n",
    "\n",
    "action = TemplateVariable(\n",
    "    name=\"ACTION\",\n",
    "    values=[\"jumped over\", \"ran under\"],\n",
    "    metadata={\"movement_type\": \"locomotion\"}\n",
    ")\n",
    "\n",
    "object_var = TemplateVariable(\n",
    "    name=\"OBJECT\",\n",
    "    values=[\"fence\", \"table\"],\n",
    "    metadata={\"object_type\": \"barrier\"}\n",
    ")\n",
    "\n",
    "# Create template\n",
    "template = Template(\n",
    "    template=\"The {SUBJECT} {ACTION} the {OBJECT}.\",\n",
    "    variables={\n",
    "        \"SUBJECT\": subject,\n",
    "        \"ACTION\": action,\n",
    "        \"OBJECT\": object_var\n",
    "    },\n",
    "    metadata={\"task\": \"entity_movement\"}\n",
    ")\n",
    "\n",
    "# Create dataset\n",
    "custom_dataset = TemplatedDataset(templates=[template])\n",
    "\n",
    "# Convert to probing dataset\n",
    "probing_dataset = custom_dataset.to_probing_dataset(auto_add_positions=True)\n",
    "\n",
    "# Convert to tokenized dataset\n",
    "tokenizer = AutoTokenizer.from_pretrained(\"google/gemma-2-2b\")\n",
    "tokenized_dataset = TokenizedProbingDataset.from_probing_dataset(\n",
    "    dataset=probing_dataset,\n",
    "    tokenizer=tokenizer\n",
    ")"
   ]
  },
  {
   "cell_type": "code",
   "execution_count": 10,
   "metadata": {},
   "outputs": [
    {
     "name": "stdout",
     "output_type": "stream",
     "text": [
      "\n",
      "Full text: The cat jumped over the fence.\n",
      "Decoded tokens at positions:\n",
      "  ACTION:  jumped\n",
      "  SUBJECT:  cat\n",
      "  OBJECT:  fence\n",
      "\n",
      "Full text: The cat jumped over the table.\n",
      "Decoded tokens at positions:\n",
      "  ACTION:  jumped\n",
      "  SUBJECT:  cat\n",
      "  OBJECT:  table\n",
      "\n",
      "Full text: The cat ran under the fence.\n",
      "Decoded tokens at positions:\n",
      "  ACTION:  ran\n",
      "  SUBJECT:  cat\n",
      "  OBJECT:  fence\n",
      "\n",
      "Full text: The cat ran under the table.\n",
      "Decoded tokens at positions:\n",
      "  ACTION:  ran\n",
      "  SUBJECT:  cat\n",
      "  OBJECT:  table\n",
      "\n",
      "Full text: The dog jumped over the fence.\n",
      "Decoded tokens at positions:\n",
      "  ACTION:  jumped\n",
      "  SUBJECT:  dog\n",
      "  OBJECT:  fence\n",
      "\n",
      "Full text: The dog jumped over the table.\n",
      "Decoded tokens at positions:\n",
      "  ACTION:  jumped\n",
      "  SUBJECT:  dog\n",
      "  OBJECT:  table\n",
      "\n",
      "Full text: The dog ran under the fence.\n",
      "Decoded tokens at positions:\n",
      "  ACTION:  ran\n",
      "  SUBJECT:  dog\n",
      "  OBJECT:  fence\n",
      "\n",
      "Full text: The dog ran under the table.\n",
      "Decoded tokens at positions:\n",
      "  ACTION:  ran\n",
      "  SUBJECT:  dog\n",
      "  OBJECT:  table\n"
     ]
    }
   ],
   "source": [
    "# Loop through dataset and decode token positions\n",
    "for example in tokenized_dataset.examples:\n",
    "    print(f\"\\nFull text: {example.text}\")\n",
    "    print(\"Decoded tokens at positions:\")\n",
    "    for pos_key in example.token_positions.keys():\n",
    "        pos = example.token_positions[pos_key]\n",
    "        decoded = tokenizer.decode(example.tokens[pos])\n",
    "        print(f\"  {pos_key}: {decoded}\")\n"
   ]
  },
  {
   "cell_type": "code",
   "execution_count": 13,
   "metadata": {},
   "outputs": [
    {
     "name": "stdout",
     "output_type": "stream",
     "text": [
      "\n",
      "Full text: When Sarah frowned deeply at the coffee shop while reading books, her friends avoided her company.\n",
      "Emotion class: negative\n",
      "Decoded tokens at positions:\n",
      "  ACTIVITY:  reading\n",
      "  REACTION:  frowned\n",
      "  LOCATION:  coffee\n",
      "  RESPONSE:  avoided\n",
      "\n",
      "Full text: When Sarah frowned deeply at the library while sharing stories, her friends avoided her company.\n",
      "Emotion class: negative\n",
      "Decoded tokens at positions:\n",
      "  ACTIVITY:  sharing\n",
      "  REACTION:  frowned\n",
      "  LOCATION:  library\n",
      "  RESPONSE:  avoided\n",
      "\n",
      "Full text: When Sarah smiled warmly at the coffee shop while playing chess, her friends embraced her company.\n",
      "Emotion class: positive\n",
      "Decoded tokens at positions:\n",
      "  ACTIVITY:  playing\n",
      "  REACTION:  smiled\n",
      "  LOCATION:  coffee\n",
      "  RESPONSE:  embraced\n"
     ]
    }
   ],
   "source": [
    "from probity.probing.datasets.templated import Template, TemplateVariable\n",
    "\n",
    "# Create emotion-based variables\n",
    "reactions = TemplateVariable(\n",
    "    name=\"REACTION\",\n",
    "    values=[\"smiled warmly\", \"laughed joyfully\", \"frowned deeply\", \"scowled angrily\"],\n",
    "    metadata={\"emotion\": [\"positive\", \"positive\", \"negative\", \"negative\"]},\n",
    "    class_bound=True,\n",
    "    class_key=\"emotion\"\n",
    ")\n",
    "\n",
    "responses = TemplateVariable(\n",
    "    name=\"RESPONSE\",\n",
    "    values=[\"embraced\", \"welcomed\", \"rejected\", \"avoided\"],\n",
    "    metadata={\"emotion\": [\"positive\", \"positive\", \"negative\", \"negative\"]},\n",
    "    class_bound=True,\n",
    "    class_key=\"emotion\"\n",
    ")\n",
    "\n",
    "# Create neutral variables for context\n",
    "locations = TemplateVariable(\n",
    "    name=\"LOCATION\",\n",
    "    values=[\"coffee shop\", \"library\", \"park\", \"restaurant\"],\n",
    "    metadata={\"setting_type\": \"public_space\"}\n",
    ")\n",
    "\n",
    "activities = TemplateVariable(\n",
    "    name=\"ACTIVITY\",\n",
    "    values=[\"reading books\", \"playing chess\", \"sharing stories\", \"having lunch\"],\n",
    "    metadata={\"activity_type\": \"social\"}\n",
    ")\n",
    "\n",
    "# Create template with more complex structure\n",
    "template = Template(\n",
    "    template=\"When Sarah {REACTION} at the {LOCATION} while {ACTIVITY}, her friends {RESPONSE} her company.\",\n",
    "    variables={\n",
    "        \"REACTION\": reactions,\n",
    "        \"RESPONSE\": responses,\n",
    "        \"LOCATION\": locations,\n",
    "        \"ACTIVITY\": activities\n",
    "    },\n",
    "    metadata={\"task\": \"emotion_analysis\"}\n",
    ")\n",
    "\n",
    "# Create dataset\n",
    "social_dataset = TemplatedDataset(templates=[template])\n",
    "\n",
    "# Convert to probing dataset with emotion labels\n",
    "probing_dataset = social_dataset.to_probing_dataset(\n",
    "    label_from_metadata=\"emotion\",\n",
    "    label_map={\"positive\": 1, \"negative\": 0},\n",
    "    auto_add_positions=True\n",
    ")\n",
    "\n",
    "# Convert to tokenized dataset\n",
    "from transformers import AutoTokenizer\n",
    "tokenizer = AutoTokenizer.from_pretrained(\"google/gemma-2-2b\")\n",
    "tokenized_dataset = TokenizedProbingDataset.from_probing_dataset(\n",
    "    dataset=probing_dataset,\n",
    "    tokenizer=tokenizer\n",
    ")\n",
    "\n",
    "# Print some random examples\n",
    "import random\n",
    "for example in random.sample(list(tokenized_dataset.examples), 3):\n",
    "    print(f\"\\nFull text: {example.text}\")\n",
    "    print(f\"Emotion class: {example.label_text}\")\n",
    "    print(\"Decoded tokens at positions:\")\n",
    "    for pos_key in example.token_positions.keys():\n",
    "        pos = example.token_positions[pos_key]\n",
    "        decoded = tokenizer.decode(example.tokens[pos])\n",
    "        print(f\"  {pos_key}: {decoded}\")"
   ]
  },
  {
   "cell_type": "code",
   "execution_count": 14,
   "metadata": {},
   "outputs": [
    {
     "name": "stderr",
     "output_type": "stream",
     "text": [
      "huggingface/tokenizers: The current process just got forked, after parallelism has already been used. Disabling parallelism to avoid deadlocks...\n",
      "To disable this warning, you can either:\n",
      "\t- Avoid using `tokenizers` before the fork if possible\n",
      "\t- Explicitly set the environment variable TOKENIZERS_PARALLELISM=(true | false)\n",
      "huggingface/tokenizers: The current process just got forked, after parallelism has already been used. Disabling parallelism to avoid deadlocks...\n",
      "To disable this warning, you can either:\n",
      "\t- Avoid using `tokenizers` before the fork if possible\n",
      "\t- Explicitly set the environment variable TOKENIZERS_PARALLELISM=(true | false)\n"
     ]
    },
    {
     "name": "stdout",
     "output_type": "stream",
     "text": [
      "Loaded pretrained model gpt2 into HookedTransformer\n"
     ]
    }
   ],
   "source": [
    "from transformer_lens import HookedTransformer\n",
    "\n",
    "model = HookedTransformer.from_pretrained_no_processing(\"gpt2\")"
   ]
  },
  {
   "cell_type": "code",
   "execution_count": null,
   "metadata": {},
   "outputs": [],
   "source": [
    "model.run_with_cache()"
   ]
  },
  {
   "cell_type": "markdown",
   "metadata": {},
   "source": [
    "## Probing"
   ]
  },
  {
   "cell_type": "markdown",
   "metadata": {},
   "source": [
    "### Dataset Creation\n"
   ]
  },
  {
   "cell_type": "code",
   "execution_count": 1,
   "metadata": {},
   "outputs": [],
   "source": [
    "import torch\n",
    "from probity.datasets.templated import TemplatedDataset\n",
    "from probity.datasets.tokenized import TokenizedProbingDataset\n",
    "from transformers import AutoTokenizer"
   ]
  },
  {
   "cell_type": "code",
   "execution_count": 2,
   "metadata": {},
   "outputs": [],
   "source": [
    "# Set torch device to mps\n",
    "device = \"mps\" if torch.backends.mps.is_available() else \"cpu\""
   ]
  },
  {
   "cell_type": "code",
   "execution_count": 3,
   "metadata": {},
   "outputs": [
    {
     "name": "stdout",
     "output_type": "stream",
     "text": [
      "First example tokens: [40, 1807, 428, 3807, 373, 8082, 11, 314, 6151, 340, 13]\n",
      "First example text: I thought this movie was incredible, I loved it.\n"
     ]
    },
    {
     "name": "stderr",
     "output_type": "stream",
     "text": [
      "/Users/curttigges/miniconda3/envs/sae-l/lib/python3.12/site-packages/transformers/tokenization_utils_base.py:2852: UserWarning: `max_length` is ignored when `padding`=`True` and there is no truncation strategy. To pad to max length, use `padding='max_length'`.\n",
      "  warnings.warn(\n"
     ]
    }
   ],
   "source": [
    "# Create movie sentiment dataset\n",
    "adjectives = {\n",
    "    \"positive\": [\"incredible\", \"amazing\", \"fantastic\", \"awesome\", \"beautiful\", \"brilliant\", \"exceptional\", \"extraordinary\", \"fabulous\", \"great\", \"lovely\", \"outstanding\", \"remarkable\", \"wonderful\"],\n",
    "    \"negative\": [\"terrible\", \"awful\", \"horrible\", \"bad\", \"disappointing\", \"disgusting\", \"dreadful\", \"horrendous\", \"mediocre\", \"miserable\", \"offensive\", \"terrible\", \"unpleasant\", \"wretched\"]\n",
    "}\n",
    "verbs = {\n",
    "    \"positive\": [\"loved\", \"enjoyed\", \"adored\"],\n",
    "    \"negative\": [\"hated\", \"disliked\", \"detested\"]\n",
    "}\n",
    "\n",
    "# Create dataset using factory method\n",
    "movie_dataset = TemplatedDataset.from_movie_sentiment_template(\n",
    "    adjectives=adjectives,\n",
    "    verbs=verbs\n",
    ")\n",
    "\n",
    "# Convert to probing dataset with automatic position finding\n",
    "# and label mapping from sentiment metadata\n",
    "probing_dataset = movie_dataset.to_probing_dataset(\n",
    "    label_from_metadata=\"sentiment\",\n",
    "    label_map={\"positive\": 1, \"negative\": 0},\n",
    "    auto_add_positions=True\n",
    ")\n",
    "\n",
    "# Convert to tokenized dataset\n",
    "tokenizer = AutoTokenizer.from_pretrained(\"gpt2\")\n",
    "tokenizer.pad_token = tokenizer.eos_token\n",
    "tokenized_dataset = TokenizedProbingDataset.from_probing_dataset(\n",
    "    dataset=probing_dataset,\n",
    "    tokenizer=tokenizer,\n",
    "    padding=True,  # Add padding\n",
    "    max_length=128  # Specify max length\n",
    ")\n",
    "\n",
    "# Verify the tokenization worked\n",
    "example = tokenized_dataset.examples[0]\n",
    "print(\"First example tokens:\", example.tokens)\n",
    "print(\"First example text:\", example.text)"
   ]
  },
  {
   "cell_type": "code",
   "execution_count": 4,
   "metadata": {},
   "outputs": [
    {
     "data": {
      "text/plain": [
       "84"
      ]
     },
     "execution_count": 4,
     "metadata": {},
     "output_type": "execute_result"
    }
   ],
   "source": [
    "len(tokenized_dataset.examples)"
   ]
  },
  {
   "cell_type": "code",
   "execution_count": 5,
   "metadata": {},
   "outputs": [],
   "source": [
    "# for i in range(len(tokenized_dataset.examples)):\n",
    "#     # for each example, make sure there is at least one token position\n",
    "#     if not tokenized_dataset.examples[i].token_positions:\n",
    "#         print(f\"Example {i} has no token positions: {tokenized_dataset.examples[i].text}\")\n",
    "#     else:\n",
    "#         print(f\"Example {i}: {tokenized_dataset.examples[i].text}\")\n",
    "    \n",
    "#     for pos_key in tokenized_dataset.examples[i].token_positions.keys():\n",
    "#         pos = tokenized_dataset.examples[i].token_positions[pos_key]\n",
    "#         # print the de-tokenized text at the position\n",
    "#         print(tokenizer.decode(tokenized_dataset.examples[i].tokens[pos]))\n"
   ]
  },
  {
   "cell_type": "markdown",
   "metadata": {},
   "source": [
    "### Linear Probe Training"
   ]
  },
  {
   "cell_type": "code",
   "execution_count": 12,
   "metadata": {},
   "outputs": [
    {
     "name": "stdout",
     "output_type": "stream",
     "text": [
      "Dataset size: 84\n",
      "Example text: I thought this movie was incredible, I loved it.\n",
      "Token positions: TokenPositions(positions={'ADJ': 5, 'VERB': 8})\n",
      "Available position keys: ['VERB', 'ADJ']\n",
      "\n",
      "Pipeline position key: ADJ\n",
      "Cache for blocks.7.hook_resid_pre is incompatible with current configuration\n",
      "Cleared invalid cache directory\n"
     ]
    },
    {
     "name": "stderr",
     "output_type": "stream",
     "text": [
      "/Users/curttigges/Projects/probity/probity/collection/activation_store.py:121: FutureWarning: You are using `torch.load` with `weights_only=False` (the current default value), which uses the default pickle module implicitly. It is possible to construct malicious pickle data which will execute arbitrary code during unpickling (See https://github.com/pytorch/pytorch/blob/main/SECURITY.md#untrusted-models for more details). In a future release, the default value for `weights_only` will be flipped to `True`. This limits the functions that could be executed during unpickling. Arbitrary objects will no longer be allowed to be loaded via this mode unless they are explicitly allowlisted by the user via `torch.serialization.add_safe_globals`. We recommend you start setting `weights_only=True` for any use case where you don't have full control of the loaded file. Please open an issue on GitHub for any issues related to this experimental feature.\n",
      "  cache_data = torch.load(os.path.join(path, 'cache.pt'))\n"
     ]
    },
    {
     "name": "stdout",
     "output_type": "stream",
     "text": [
      "Loaded pretrained model gpt2 into HookedTransformer\n",
      "Moving model to device:  cpu\n",
      "Dataset size: 84\n"
     ]
    },
    {
     "data": {
      "application/vnd.jupyter.widget-view+json": {
       "model_id": "e2b34658e97f4c739eba7830c78880e9",
       "version_major": 2,
       "version_minor": 0
      },
      "text/plain": [
       "Saving the dataset (0/1 shards):   0%|          | 0/84 [00:00<?, ? examples/s]"
      ]
     },
     "metadata": {},
     "output_type": "display_data"
    },
    {
     "name": "stdout",
     "output_type": "stream",
     "text": [
      "Examining position key: ADJ\n",
      "Dataset size: 84\n",
      "Dataset labels: tensor([1, 1, 1, 1, 1, 1, 1, 1, 1, 1, 1, 1, 1, 1, 1, 1, 1, 1, 1, 1, 1, 1, 1, 1,\n",
      "        1, 1, 1, 1, 1, 1, 1, 1, 1, 1, 1, 1, 1, 1, 1, 1, 1, 1, 0, 0, 0, 0, 0, 0,\n",
      "        0, 0, 0, 0, 0, 0, 0, 0, 0, 0, 0, 0, 0, 0, 0, 0, 0, 0, 0, 0, 0, 0, 0, 0,\n",
      "        0, 0, 0, 0, 0, 0, 0, 0, 0, 0, 0, 0])\n",
      "Dataset label texts: ['positive', 'positive', 'positive', 'positive', 'positive', 'positive', 'positive', 'positive', 'positive', 'positive', 'positive', 'positive', 'positive', 'positive', 'positive', 'positive', 'positive', 'positive', 'positive', 'positive', 'positive', 'positive', 'positive', 'positive', 'positive', 'positive', 'positive', 'positive', 'positive', 'positive', 'positive', 'positive', 'positive', 'positive', 'positive', 'positive', 'positive', 'positive', 'positive', 'positive', 'positive', 'positive', 'negative', 'negative', 'negative', 'negative', 'negative', 'negative', 'negative', 'negative', 'negative', 'negative', 'negative', 'negative', 'negative', 'negative', 'negative', 'negative', 'negative', 'negative', 'negative', 'negative', 'negative', 'negative', 'negative', 'negative', 'negative', 'negative', 'negative', 'negative', 'negative', 'negative', 'negative', 'negative', 'negative', 'negative', 'negative', 'negative', 'negative', 'negative', 'negative', 'negative', 'negative', 'negative']\n",
      "Dataset example indices: tensor([ 0,  1,  2,  3,  4,  5,  6,  7,  8,  9, 10, 11, 12, 13, 14, 15, 16, 17,\n",
      "        18, 19, 20, 21, 22, 23, 24, 25, 26, 27, 28, 29, 30, 31, 32, 33, 34, 35,\n",
      "        36, 37, 38, 39, 40, 41, 42, 43, 44, 45, 46, 47, 48, 49, 50, 51, 52, 53,\n",
      "        54, 55, 56, 57, 58, 59, 60, 61, 62, 63, 64, 65, 66, 67, 68, 69, 70, 71,\n",
      "        72, 73, 74, 75, 76, 77, 78, 79, 80, 81, 82, 83])\n",
      "Examining position key: ADJ\n",
      "Dataset size: 84\n",
      "Dataset labels: tensor([1, 1, 1, 1, 1, 1, 1, 1, 1, 1, 1, 1, 1, 1, 1, 1, 1, 1, 1, 1, 1, 1, 1, 1,\n",
      "        1, 1, 1, 1, 1, 1, 1, 1, 1, 1, 1, 1, 1, 1, 1, 1, 1, 1, 0, 0, 0, 0, 0, 0,\n",
      "        0, 0, 0, 0, 0, 0, 0, 0, 0, 0, 0, 0, 0, 0, 0, 0, 0, 0, 0, 0, 0, 0, 0, 0,\n",
      "        0, 0, 0, 0, 0, 0, 0, 0, 0, 0, 0, 0])\n",
      "Dataset label texts: ['positive', 'positive', 'positive', 'positive', 'positive', 'positive', 'positive', 'positive', 'positive', 'positive', 'positive', 'positive', 'positive', 'positive', 'positive', 'positive', 'positive', 'positive', 'positive', 'positive', 'positive', 'positive', 'positive', 'positive', 'positive', 'positive', 'positive', 'positive', 'positive', 'positive', 'positive', 'positive', 'positive', 'positive', 'positive', 'positive', 'positive', 'positive', 'positive', 'positive', 'positive', 'positive', 'negative', 'negative', 'negative', 'negative', 'negative', 'negative', 'negative', 'negative', 'negative', 'negative', 'negative', 'negative', 'negative', 'negative', 'negative', 'negative', 'negative', 'negative', 'negative', 'negative', 'negative', 'negative', 'negative', 'negative', 'negative', 'negative', 'negative', 'negative', 'negative', 'negative', 'negative', 'negative', 'negative', 'negative', 'negative', 'negative', 'negative', 'negative', 'negative', 'negative', 'negative', 'negative']\n",
      "Dataset example indices: tensor([ 0,  1,  2,  3,  4,  5,  6,  7,  8,  9, 10, 11, 12, 13, 14, 15, 16, 17,\n",
      "        18, 19, 20, 21, 22, 23, 24, 25, 26, 27, 28, 29, 30, 31, 32, 33, 34, 35,\n",
      "        36, 37, 38, 39, 40, 41, 42, 43, 44, 45, 46, 47, 48, 49, 50, 51, 52, 53,\n",
      "        54, 55, 56, 57, 58, 59, 60, 61, 62, 63, 64, 65, 66, 67, 68, 69, 70, 71,\n",
      "        72, 73, 74, 75, 76, 77, 78, 79, 80, 81, 82, 83])\n"
     ]
    },
    {
     "data": {
      "application/vnd.jupyter.widget-view+json": {
       "model_id": "9818ef713706481cb27214548f1b6459",
       "version_major": 2,
       "version_minor": 0
      },
      "text/plain": [
       "Training:   0%|          | 0/10 [00:00<?, ?it/s]"
      ]
     },
     "metadata": {},
     "output_type": "display_data"
    },
    {
     "data": {
      "application/vnd.jupyter.widget-view+json": {
       "model_id": "91d7218eda3445d5906bde16fce546c8",
       "version_major": 2,
       "version_minor": 0
      },
      "text/plain": [
       "Epoch 1/10:   0%|          | 0/3 [00:00<?, ?it/s]"
      ]
     },
     "metadata": {},
     "output_type": "display_data"
    },
    {
     "data": {
      "application/vnd.jupyter.widget-view+json": {
       "model_id": "d7662ce1ab42423aaead5aed86818c83",
       "version_major": 2,
       "version_minor": 0
      },
      "text/plain": [
       "Epoch 2/10:   0%|          | 0/3 [00:00<?, ?it/s]"
      ]
     },
     "metadata": {},
     "output_type": "display_data"
    },
    {
     "data": {
      "application/vnd.jupyter.widget-view+json": {
       "model_id": "dcee043e42604f56b85b40b582da7f81",
       "version_major": 2,
       "version_minor": 0
      },
      "text/plain": [
       "Epoch 3/10:   0%|          | 0/3 [00:00<?, ?it/s]"
      ]
     },
     "metadata": {},
     "output_type": "display_data"
    },
    {
     "data": {
      "application/vnd.jupyter.widget-view+json": {
       "model_id": "ca026dc536a143c5a8510652785f78c5",
       "version_major": 2,
       "version_minor": 0
      },
      "text/plain": [
       "Epoch 4/10:   0%|          | 0/3 [00:00<?, ?it/s]"
      ]
     },
     "metadata": {},
     "output_type": "display_data"
    },
    {
     "data": {
      "application/vnd.jupyter.widget-view+json": {
       "model_id": "5fb6b621bd264b4cae08ec0938499fbb",
       "version_major": 2,
       "version_minor": 0
      },
      "text/plain": [
       "Epoch 5/10:   0%|          | 0/3 [00:00<?, ?it/s]"
      ]
     },
     "metadata": {},
     "output_type": "display_data"
    },
    {
     "data": {
      "application/vnd.jupyter.widget-view+json": {
       "model_id": "dc0ade29cfb24c8b8ef4d89b41d76a13",
       "version_major": 2,
       "version_minor": 0
      },
      "text/plain": [
       "Epoch 6/10:   0%|          | 0/3 [00:00<?, ?it/s]"
      ]
     },
     "metadata": {},
     "output_type": "display_data"
    },
    {
     "data": {
      "application/vnd.jupyter.widget-view+json": {
       "model_id": "bfa6ea3da13e4f64a8fafd4c269efa02",
       "version_major": 2,
       "version_minor": 0
      },
      "text/plain": [
       "Epoch 7/10:   0%|          | 0/3 [00:00<?, ?it/s]"
      ]
     },
     "metadata": {},
     "output_type": "display_data"
    },
    {
     "data": {
      "application/vnd.jupyter.widget-view+json": {
       "model_id": "2067685c7dc64e638f49b7f151554d92",
       "version_major": 2,
       "version_minor": 0
      },
      "text/plain": [
       "Epoch 8/10:   0%|          | 0/3 [00:00<?, ?it/s]"
      ]
     },
     "metadata": {},
     "output_type": "display_data"
    },
    {
     "data": {
      "application/vnd.jupyter.widget-view+json": {
       "model_id": "bc6ceb0d685c427989249decd24c71b4",
       "version_major": 2,
       "version_minor": 0
      },
      "text/plain": [
       "Epoch 9/10:   0%|          | 0/3 [00:00<?, ?it/s]"
      ]
     },
     "metadata": {},
     "output_type": "display_data"
    },
    {
     "data": {
      "application/vnd.jupyter.widget-view+json": {
       "model_id": "82338700ab0c43629439647f2581e2d5",
       "version_major": 2,
       "version_minor": 0
      },
      "text/plain": [
       "Epoch 10/10:   0%|          | 0/3 [00:00<?, ?it/s]"
      ]
     },
     "metadata": {},
     "output_type": "display_data"
    },
    {
     "data": {
      "image/png": "[encoded data removed]",
      "text/plain": [
       "<Figure size 1000x500 with 1 Axes>"
      ]
     },
     "metadata": {},
     "output_type": "display_data"
    }
   ],
   "source": [
    "from probity.probes.linear_probe import LinearProbe, LinearProbeConfig\n",
    "from probity.training.trainer import SupervisedProbeTrainer, SupervisedTrainerConfig\n",
    "from probity.pipeline.pipeline import ProbePipeline, ProbePipelineConfig\n",
    "\n",
    "# First, configure the probe\n",
    "# GPT2-small has hidden size 768\n",
    "probe_config = LinearProbeConfig(\n",
    "    input_size=768,\n",
    "    normalize_weights=True,  # Normalize the learned direction\n",
    "    bias=False  # No bias term needed for direction finding\n",
    ")\n",
    "\n",
    "# Configure the trainer\n",
    "trainer_config = SupervisedTrainerConfig(\n",
    "    batch_size=32,\n",
    "    learning_rate=1e-3,\n",
    "    num_epochs=10,\n",
    "    weight_decay=0.01,\n",
    "    train_ratio=0.8,  # 80-20 train-val split\n",
    "    handle_class_imbalance=True,  # Important since our classes are balanced\n",
    "    show_progress=True\n",
    ")\n",
    "\n",
    "print(f\"Dataset size: {len(tokenized_dataset.examples)}\")\n",
    "\n",
    "# Create pipeline configuration\n",
    "pipeline_config = ProbePipelineConfig(\n",
    "    dataset=tokenized_dataset,\n",
    "    probe_cls=LinearProbe,\n",
    "    probe_config=probe_config,\n",
    "    trainer_cls=SupervisedProbeTrainer,\n",
    "    trainer_config=trainer_config,\n",
    "    position_key=\"ADJ\",  # We want to probe at the adjective position\n",
    "    model_name=\"gpt2\",\n",
    "    hook_points=[\"blocks.7.hook_resid_pre\"],  # Layer 6\n",
    "    cache_dir=\"./cache/sentiment_probe_cache\"  # Cache activations for reuse\n",
    ")\n",
    "\n",
    "# Create and run pipeline\n",
    "pipeline = ProbePipeline(pipeline_config)\n",
    "\n",
    "# Add this debugging code before running the pipeline\n",
    "example = tokenized_dataset.examples[0]\n",
    "print(f\"Example text: {example.text}\")\n",
    "print(f\"Token positions: {example.token_positions}\")\n",
    "print(f\"Available position keys: {list(example.token_positions.keys())}\")\n",
    "\n",
    "# Verify the position key matches what's in the dataset\n",
    "print(f\"\\nPipeline position key: {pipeline_config.position_key}\")\n",
    "\n",
    "probe, training_history = pipeline.run()\n",
    "\n",
    "# The probe now contains our learned sentiment direction\n",
    "sentiment_direction = probe.get_direction()\n",
    "\n",
    "# We can analyze training history\n",
    "import matplotlib.pyplot as plt\n",
    "\n",
    "plt.figure(figsize=(10, 5))\n",
    "plt.plot(training_history['train_loss'], label='Train Loss')\n",
    "plt.plot(training_history['val_loss'], label='Validation Loss')\n",
    "plt.xlabel('Epoch')\n",
    "plt.ylabel('Loss')\n",
    "plt.title('Probe Training History')\n",
    "plt.legend()\n",
    "plt.show()\n",
    "\n",
    "# Save the pipeline for later use\n",
    "pipeline.save(\"./probes/sentiment_probe\")\n",
    "\n"
   ]
  },
  {
   "cell_type": "code",
   "execution_count": 7,
   "metadata": {},
   "outputs": [
    {
     "name": "stdout",
     "output_type": "stream",
     "text": [
      "Sentiment score (0=negative, 1=positive): 0.097\n"
     ]
    }
   ],
   "source": [
    "# To test the probe, we can get predictions for new examples\n",
    "def analyze_sentiment(text: str, pipeline: ProbePipeline):\n",
    "    # Tokenize new text\n",
    "    tokens = tokenizer(text, return_tensors=\"pt\")[\"input_ids\"]\n",
    "    \n",
    "    # Get activations for the new text\n",
    "    with torch.no_grad():\n",
    "        _, cache = pipeline.collector.model.run_with_cache(\n",
    "            tokens,\n",
    "            names_filter=[\"blocks.7.hook_resid_pre\"]\n",
    "        )\n",
    "    \n",
    "    # Get the activations at target layer\n",
    "    activations = cache[\"blocks.7.hook_resid_pre\"]\n",
    "    \n",
    "    # Apply the probe\n",
    "    logits = pipeline.probe(activations)\n",
    "    probs = torch.sigmoid(logits)\n",
    "    # Take the mean probability across all tokens\n",
    "    return probs[0, -2].item()  # Changed this line\n",
    "\n",
    "# Test the probe\n",
    "test_text = \"I thought this movie was amazing, I loved it.\"\n",
    "sentiment_score = analyze_sentiment(test_text, pipeline)\n",
    "print(f\"Sentiment score (0=negative, 1=positive): {sentiment_score:.3f}\")"
   ]
  },
  {
   "cell_type": "code",
   "execution_count": 8,
   "metadata": {},
   "outputs": [
    {
     "name": "stdout",
     "output_type": "stream",
     "text": [
      "Sentiment score (0=negative, 1=positive): 0.114\n"
     ]
    }
   ],
   "source": [
    "# Test the probe\n",
    "test_text = \"I thought this movie was detestable, I hated it.\"\n",
    "sentiment_score = analyze_sentiment(test_text, pipeline)\n",
    "print(f\"Sentiment score (0=negative, 1=positive): {sentiment_score:.3f}\")"
   ]
  },
  {
   "cell_type": "code",
   "execution_count": 21,
   "metadata": {},
   "outputs": [
    {
     "name": "stderr",
     "output_type": "stream",
     "text": [
      "/var/folders/rt/vlzhnvkj6s51xk5xshx4ldqc0000gn/T/ipykernel_13037/3101878983.py:5: FutureWarning: You are using `torch.load` with `weights_only=False` (the current default value), which uses the default pickle module implicitly. It is possible to construct malicious pickle data which will execute arbitrary code during unpickling (See https://github.com/pytorch/pytorch/blob/main/SECURITY.md#untrusted-models for more details). In a future release, the default value for `weights_only` will be flipped to `True`. This limits the functions that could be executed during unpickling. Arbitrary objects will no longer be allowed to be loaded via this mode unless they are explicitly allowlisted by the user via `torch.serialization.add_safe_globals`. We recommend you start setting `weights_only=True` for any use case where you don't have full control of the loaded file. Please open an issue on GitHub for any issues related to this experimental feature.\n",
      "  probe_weights = torch.load(\"sentiment_probe/probe.pt\")['state_dict']['linear.weight'].squeeze(0)\n"
     ]
    }
   ],
   "source": [
    "import torch\n",
    "import json\n",
    "\n",
    "# Load the probe weights\n",
    "probe_weights = torch.load(\"sentiment_probe/probe.pt\")['state_dict']['linear.weight'].squeeze(0)\n",
    "\n",
    "# Convert to numpy array and then to list for JSON serialization\n",
    "weights_list = probe_weights.numpy().tolist()\n",
    "\n",
    "# Save as JSON\n",
    "with open(\"sentiment_probe/probe.json\", \"w\") as f:\n",
    "    json.dump(weights_list, f)\n"
   ]
  },
  {
   "cell_type": "markdown",
   "metadata": {},
   "source": [
    "### Multi-probe Training"
   ]
  },
  {
   "cell_type": "code",
   "execution_count": 12,
   "metadata": {},
   "outputs": [
    {
     "name": "stdout",
     "output_type": "stream",
     "text": [
      "\n",
      "Running linear probe...\n",
      "Cache for blocks.7.hook_resid_pre is incompatible with current configuration\n",
      "Cleared invalid cache directory\n"
     ]
    },
    {
     "name": "stderr",
     "output_type": "stream",
     "text": [
      "/Users/curttigges/Projects/probity/probity/collection/activation_store.py:116: FutureWarning: You are using `torch.load` with `weights_only=False` (the current default value), which uses the default pickle module implicitly. It is possible to construct malicious pickle data which will execute arbitrary code during unpickling (See https://github.com/pytorch/pytorch/blob/main/SECURITY.md#untrusted-models for more details). In a future release, the default value for `weights_only` will be flipped to `True`. This limits the functions that could be executed during unpickling. Arbitrary objects will no longer be allowed to be loaded via this mode unless they are explicitly allowlisted by the user via `torch.serialization.add_safe_globals`. We recommend you start setting `weights_only=True` for any use case where you don't have full control of the loaded file. Please open an issue on GitHub for any issues related to this experimental feature.\n",
      "  cache_data = torch.load(os.path.join(path, 'cache.pt'))\n"
     ]
    },
    {
     "name": "stdout",
     "output_type": "stream",
     "text": [
      "Loaded pretrained model gpt2-small into HookedTransformer\n",
      "Moving model to device:  cpu\n"
     ]
    },
    {
     "data": {
      "application/vnd.jupyter.widget-view+json": {
       "model_id": "3fb075852bb0434783fca8dbfcf16680",
       "version_major": 2,
       "version_minor": 0
      },
      "text/plain": [
       "Saving the dataset (0/1 shards):   0%|          | 0/84 [00:00<?, ? examples/s]"
      ]
     },
     "metadata": {},
     "output_type": "display_data"
    },
    {
     "name": "stdout",
     "output_type": "stream",
     "text": [
      "Examining position key: ADJ\n",
      "Examining position key: ADJ\n"
     ]
    },
    {
     "data": {
      "application/vnd.jupyter.widget-view+json": {
       "model_id": "3cc8c633fa3845d7805d4e7646304f09",
       "version_major": 2,
       "version_minor": 0
      },
      "text/plain": [
       "Training:   0%|          | 0/20 [00:00<?, ?it/s]"
      ]
     },
     "metadata": {},
     "output_type": "display_data"
    },
    {
     "data": {
      "application/vnd.jupyter.widget-view+json": {
       "model_id": "753d4e3dfced454b8938ef2495adde37",
       "version_major": 2,
       "version_minor": 0
      },
      "text/plain": [
       "Epoch 1/20:   0%|          | 0/3 [00:00<?, ?it/s]"
      ]
     },
     "metadata": {},
     "output_type": "display_data"
    },
    {
     "data": {
      "application/vnd.jupyter.widget-view+json": {
       "model_id": "3d9050f942464088b7ab79171347b630",
       "version_major": 2,
       "version_minor": 0
      },
      "text/plain": [
       "Epoch 2/20:   0%|          | 0/3 [00:00<?, ?it/s]"
      ]
     },
     "metadata": {},
     "output_type": "display_data"
    },
    {
     "data": {
      "application/vnd.jupyter.widget-view+json": {
       "model_id": "fd9ef178de68498ab64a61eeea38783b",
       "version_major": 2,
       "version_minor": 0
      },
      "text/plain": [
       "Epoch 3/20:   0%|          | 0/3 [00:00<?, ?it/s]"
      ]
     },
     "metadata": {},
     "output_type": "display_data"
    },
    {
     "data": {
      "application/vnd.jupyter.widget-view+json": {
       "model_id": "fdb3c89fdcd645aa963f4b2ab4aaadce",
       "version_major": 2,
       "version_minor": 0
      },
      "text/plain": [
       "Epoch 4/20:   0%|          | 0/3 [00:00<?, ?it/s]"
      ]
     },
     "metadata": {},
     "output_type": "display_data"
    },
    {
     "data": {
      "application/vnd.jupyter.widget-view+json": {
       "model_id": "49826b7e9280455184189ade1649836b",
       "version_major": 2,
       "version_minor": 0
      },
      "text/plain": [
       "Epoch 5/20:   0%|          | 0/3 [00:00<?, ?it/s]"
      ]
     },
     "metadata": {},
     "output_type": "display_data"
    },
    {
     "data": {
      "application/vnd.jupyter.widget-view+json": {
       "model_id": "b77a7fe51a8d4eb8b0b928995003698c",
       "version_major": 2,
       "version_minor": 0
      },
      "text/plain": [
       "Epoch 6/20:   0%|          | 0/3 [00:00<?, ?it/s]"
      ]
     },
     "metadata": {},
     "output_type": "display_data"
    },
    {
     "data": {
      "application/vnd.jupyter.widget-view+json": {
       "model_id": "4e347181ca934bfdb50de92adbc10b05",
       "version_major": 2,
       "version_minor": 0
      },
      "text/plain": [
       "Epoch 7/20:   0%|          | 0/3 [00:00<?, ?it/s]"
      ]
     },
     "metadata": {},
     "output_type": "display_data"
    },
    {
     "data": {
      "application/vnd.jupyter.widget-view+json": {
       "model_id": "820d02967dc34d20b9bfac7cc17dd63e",
       "version_major": 2,
       "version_minor": 0
      },
      "text/plain": [
       "Epoch 8/20:   0%|          | 0/3 [00:00<?, ?it/s]"
      ]
     },
     "metadata": {},
     "output_type": "display_data"
    },
    {
     "data": {
      "application/vnd.jupyter.widget-view+json": {
       "model_id": "d574f19eb56f4ea0b9e2cf28f4f3fc52",
       "version_major": 2,
       "version_minor": 0
      },
      "text/plain": [
       "Epoch 9/20:   0%|          | 0/3 [00:00<?, ?it/s]"
      ]
     },
     "metadata": {},
     "output_type": "display_data"
    },
    {
     "data": {
      "application/vnd.jupyter.widget-view+json": {
       "model_id": "f87158bf3901448b9c5d01cbb1a6d313",
       "version_major": 2,
       "version_minor": 0
      },
      "text/plain": [
       "Epoch 10/20:   0%|          | 0/3 [00:00<?, ?it/s]"
      ]
     },
     "metadata": {},
     "output_type": "display_data"
    },
    {
     "data": {
      "application/vnd.jupyter.widget-view+json": {
       "model_id": "4fcf78b96c9e4087a490d2d0eba66243",
       "version_major": 2,
       "version_minor": 0
      },
      "text/plain": [
       "Epoch 11/20:   0%|          | 0/3 [00:00<?, ?it/s]"
      ]
     },
     "metadata": {},
     "output_type": "display_data"
    },
    {
     "data": {
      "application/vnd.jupyter.widget-view+json": {
       "model_id": "457bd95c37e9473e9b34bf3642a5add4",
       "version_major": 2,
       "version_minor": 0
      },
      "text/plain": [
       "Epoch 12/20:   0%|          | 0/3 [00:00<?, ?it/s]"
      ]
     },
     "metadata": {},
     "output_type": "display_data"
    },
    {
     "data": {
      "application/vnd.jupyter.widget-view+json": {
       "model_id": "e8c0fbc79ecc4b35b84550605958f4e7",
       "version_major": 2,
       "version_minor": 0
      },
      "text/plain": [
       "Epoch 13/20:   0%|          | 0/3 [00:00<?, ?it/s]"
      ]
     },
     "metadata": {},
     "output_type": "display_data"
    },
    {
     "data": {
      "application/vnd.jupyter.widget-view+json": {
       "model_id": "76136af2d7c64db895624aaba42476ec",
       "version_major": 2,
       "version_minor": 0
      },
      "text/plain": [
       "Epoch 14/20:   0%|          | 0/3 [00:00<?, ?it/s]"
      ]
     },
     "metadata": {},
     "output_type": "display_data"
    },
    {
     "data": {
      "application/vnd.jupyter.widget-view+json": {
       "model_id": "3c22d2e64d8a46a5ba5d730df18f4f32",
       "version_major": 2,
       "version_minor": 0
      },
      "text/plain": [
       "Epoch 15/20:   0%|          | 0/3 [00:00<?, ?it/s]"
      ]
     },
     "metadata": {},
     "output_type": "display_data"
    },
    {
     "data": {
      "application/vnd.jupyter.widget-view+json": {
       "model_id": "aa46bd53a07f4ad783eb4da308c6b2b5",
       "version_major": 2,
       "version_minor": 0
      },
      "text/plain": [
       "Epoch 16/20:   0%|          | 0/3 [00:00<?, ?it/s]"
      ]
     },
     "metadata": {},
     "output_type": "display_data"
    },
    {
     "data": {
      "application/vnd.jupyter.widget-view+json": {
       "model_id": "65b936d2dcf449649b287a8427c91e66",
       "version_major": 2,
       "version_minor": 0
      },
      "text/plain": [
       "Epoch 17/20:   0%|          | 0/3 [00:00<?, ?it/s]"
      ]
     },
     "metadata": {},
     "output_type": "display_data"
    },
    {
     "data": {
      "application/vnd.jupyter.widget-view+json": {
       "model_id": "5d1794f3dd8641d2bdcd45091d5d67bd",
       "version_major": 2,
       "version_minor": 0
      },
      "text/plain": [
       "Epoch 18/20:   0%|          | 0/3 [00:00<?, ?it/s]"
      ]
     },
     "metadata": {},
     "output_type": "display_data"
    },
    {
     "data": {
      "application/vnd.jupyter.widget-view+json": {
       "model_id": "b41363a4e26f46df9622cb66649c4ed6",
       "version_major": 2,
       "version_minor": 0
      },
      "text/plain": [
       "Epoch 19/20:   0%|          | 0/3 [00:00<?, ?it/s]"
      ]
     },
     "metadata": {},
     "output_type": "display_data"
    },
    {
     "data": {
      "application/vnd.jupyter.widget-view+json": {
       "model_id": "60cfad86abf84a1fae8b431a398ff9a6",
       "version_major": 2,
       "version_minor": 0
      },
      "text/plain": [
       "Epoch 20/20:   0%|          | 0/3 [00:00<?, ?it/s]"
      ]
     },
     "metadata": {},
     "output_type": "display_data"
    },
    {
     "data": {
      "image/png": "[encoded data removed]",
      "text/plain": [
       "<Figure size 1000x500 with 1 Axes>"
      ]
     },
     "metadata": {},
     "output_type": "display_data"
    },
    {
     "name": "stdout",
     "output_type": "stream",
     "text": [
      "linear final training loss: 0.2960\n",
      "\n",
      "Running logistic probe...\n",
      "Cache for blocks.7.hook_resid_pre is incompatible with current configuration\n",
      "Cleared invalid cache directory\n",
      "Loaded pretrained model gpt2-small into HookedTransformer\n",
      "Moving model to device:  cpu\n"
     ]
    },
    {
     "data": {
      "application/vnd.jupyter.widget-view+json": {
       "model_id": "456904001e414192981cd3685360067c",
       "version_major": 2,
       "version_minor": 0
      },
      "text/plain": [
       "Saving the dataset (0/1 shards):   0%|          | 0/84 [00:00<?, ? examples/s]"
      ]
     },
     "metadata": {},
     "output_type": "display_data"
    },
    {
     "name": "stdout",
     "output_type": "stream",
     "text": [
      "Examining position key: ADJ\n",
      "Examining position key: ADJ\n"
     ]
    },
    {
     "data": {
      "application/vnd.jupyter.widget-view+json": {
       "model_id": "734bb0cf6515477da5713bbf824ed8d8",
       "version_major": 2,
       "version_minor": 0
      },
      "text/plain": [
       "Training:   0%|          | 0/20 [00:00<?, ?it/s]"
      ]
     },
     "metadata": {},
     "output_type": "display_data"
    },
    {
     "data": {
      "application/vnd.jupyter.widget-view+json": {
       "model_id": "64cac41a9a664879a1b4d29e7278d90b",
       "version_major": 2,
       "version_minor": 0
      },
      "text/plain": [
       "Epoch 1/20:   0%|          | 0/3 [00:00<?, ?it/s]"
      ]
     },
     "metadata": {},
     "output_type": "display_data"
    },
    {
     "data": {
      "application/vnd.jupyter.widget-view+json": {
       "model_id": "8004f6fbf284458e8bbee1e1434b93e8",
       "version_major": 2,
       "version_minor": 0
      },
      "text/plain": [
       "Epoch 2/20:   0%|          | 0/3 [00:00<?, ?it/s]"
      ]
     },
     "metadata": {},
     "output_type": "display_data"
    },
    {
     "data": {
      "application/vnd.jupyter.widget-view+json": {
       "model_id": "ace4decc1b574ef2b85cb520ccdc9844",
       "version_major": 2,
       "version_minor": 0
      },
      "text/plain": [
       "Epoch 3/20:   0%|          | 0/3 [00:00<?, ?it/s]"
      ]
     },
     "metadata": {},
     "output_type": "display_data"
    },
    {
     "data": {
      "application/vnd.jupyter.widget-view+json": {
       "model_id": "38fc679bd54b4222a07731bd25b77301",
       "version_major": 2,
       "version_minor": 0
      },
      "text/plain": [
       "Epoch 4/20:   0%|          | 0/3 [00:00<?, ?it/s]"
      ]
     },
     "metadata": {},
     "output_type": "display_data"
    },
    {
     "data": {
      "application/vnd.jupyter.widget-view+json": {
       "model_id": "0a63a6609b3f456baeaf556c2f19ab00",
       "version_major": 2,
       "version_minor": 0
      },
      "text/plain": [
       "Epoch 5/20:   0%|          | 0/3 [00:00<?, ?it/s]"
      ]
     },
     "metadata": {},
     "output_type": "display_data"
    },
    {
     "data": {
      "application/vnd.jupyter.widget-view+json": {
       "model_id": "d0af77d1c9f24f14a18c4bfaa40e0255",
       "version_major": 2,
       "version_minor": 0
      },
      "text/plain": [
       "Epoch 6/20:   0%|          | 0/3 [00:00<?, ?it/s]"
      ]
     },
     "metadata": {},
     "output_type": "display_data"
    },
    {
     "data": {
      "application/vnd.jupyter.widget-view+json": {
       "model_id": "26486450ad494a7e97ca1cab96899ce1",
       "version_major": 2,
       "version_minor": 0
      },
      "text/plain": [
       "Epoch 7/20:   0%|          | 0/3 [00:00<?, ?it/s]"
      ]
     },
     "metadata": {},
     "output_type": "display_data"
    },
    {
     "data": {
      "application/vnd.jupyter.widget-view+json": {
       "model_id": "093f519ff16b4cb9963eb04e8644d93f",
       "version_major": 2,
       "version_minor": 0
      },
      "text/plain": [
       "Epoch 8/20:   0%|          | 0/3 [00:00<?, ?it/s]"
      ]
     },
     "metadata": {},
     "output_type": "display_data"
    },
    {
     "data": {
      "application/vnd.jupyter.widget-view+json": {
       "model_id": "a71346ef4c48499a83fad22599edf6d4",
       "version_major": 2,
       "version_minor": 0
      },
      "text/plain": [
       "Epoch 9/20:   0%|          | 0/3 [00:00<?, ?it/s]"
      ]
     },
     "metadata": {},
     "output_type": "display_data"
    },
    {
     "data": {
      "application/vnd.jupyter.widget-view+json": {
       "model_id": "d3b67a72bb234805a27ddd96b349260f",
       "version_major": 2,
       "version_minor": 0
      },
      "text/plain": [
       "Epoch 10/20:   0%|          | 0/3 [00:00<?, ?it/s]"
      ]
     },
     "metadata": {},
     "output_type": "display_data"
    },
    {
     "data": {
      "application/vnd.jupyter.widget-view+json": {
       "model_id": "018baf8d1576409eb314b2c916d9377e",
       "version_major": 2,
       "version_minor": 0
      },
      "text/plain": [
       "Epoch 11/20:   0%|          | 0/3 [00:00<?, ?it/s]"
      ]
     },
     "metadata": {},
     "output_type": "display_data"
    },
    {
     "data": {
      "application/vnd.jupyter.widget-view+json": {
       "model_id": "1774582f2c7246e0a1d5ed0727d9168e",
       "version_major": 2,
       "version_minor": 0
      },
      "text/plain": [
       "Epoch 12/20:   0%|          | 0/3 [00:00<?, ?it/s]"
      ]
     },
     "metadata": {},
     "output_type": "display_data"
    },
    {
     "data": {
      "application/vnd.jupyter.widget-view+json": {
       "model_id": "a875740ec0ae47089595d1a123356f05",
       "version_major": 2,
       "version_minor": 0
      },
      "text/plain": [
       "Epoch 13/20:   0%|          | 0/3 [00:00<?, ?it/s]"
      ]
     },
     "metadata": {},
     "output_type": "display_data"
    },
    {
     "data": {
      "application/vnd.jupyter.widget-view+json": {
       "model_id": "bc2422484aae46a18df84056320ca576",
       "version_major": 2,
       "version_minor": 0
      },
      "text/plain": [
       "Epoch 14/20:   0%|          | 0/3 [00:00<?, ?it/s]"
      ]
     },
     "metadata": {},
     "output_type": "display_data"
    },
    {
     "data": {
      "application/vnd.jupyter.widget-view+json": {
       "model_id": "d58908c438af428691939029840cafae",
       "version_major": 2,
       "version_minor": 0
      },
      "text/plain": [
       "Epoch 15/20:   0%|          | 0/3 [00:00<?, ?it/s]"
      ]
     },
     "metadata": {},
     "output_type": "display_data"
    },
    {
     "data": {
      "application/vnd.jupyter.widget-view+json": {
       "model_id": "2eed69fe750a457b84e0da87ce9a0433",
       "version_major": 2,
       "version_minor": 0
      },
      "text/plain": [
       "Epoch 16/20:   0%|          | 0/3 [00:00<?, ?it/s]"
      ]
     },
     "metadata": {},
     "output_type": "display_data"
    },
    {
     "data": {
      "application/vnd.jupyter.widget-view+json": {
       "model_id": "55d193df856a4897b4dac5b41d83157a",
       "version_major": 2,
       "version_minor": 0
      },
      "text/plain": [
       "Epoch 17/20:   0%|          | 0/3 [00:00<?, ?it/s]"
      ]
     },
     "metadata": {},
     "output_type": "display_data"
    },
    {
     "data": {
      "application/vnd.jupyter.widget-view+json": {
       "model_id": "ea8431febfd947a2b2acd9fde65246ef",
       "version_major": 2,
       "version_minor": 0
      },
      "text/plain": [
       "Epoch 18/20:   0%|          | 0/3 [00:00<?, ?it/s]"
      ]
     },
     "metadata": {},
     "output_type": "display_data"
    },
    {
     "data": {
      "application/vnd.jupyter.widget-view+json": {
       "model_id": "dd0d0d4eb9c1454cbf8e022bd5b42cb1",
       "version_major": 2,
       "version_minor": 0
      },
      "text/plain": [
       "Epoch 19/20:   0%|          | 0/3 [00:00<?, ?it/s]"
      ]
     },
     "metadata": {},
     "output_type": "display_data"
    },
    {
     "data": {
      "application/vnd.jupyter.widget-view+json": {
       "model_id": "e73457bdd7274e53b1e71016559c438b",
       "version_major": 2,
       "version_minor": 0
      },
      "text/plain": [
       "Epoch 20/20:   0%|          | 0/3 [00:00<?, ?it/s]"
      ]
     },
     "metadata": {},
     "output_type": "display_data"
    },
    {
     "data": {
      "image/png": "[encoded data removed]",
      "text/plain": [
       "<Figure size 1000x500 with 1 Axes>"
      ]
     },
     "metadata": {},
     "output_type": "display_data"
    },
    {
     "name": "stdout",
     "output_type": "stream",
     "text": [
      "logistic final training loss: 0.5418\n",
      "\n",
      "Running kmeans probe...\n",
      "Cache for blocks.7.hook_resid_pre is incompatible with current configuration\n",
      "Cleared invalid cache directory\n",
      "Loaded pretrained model gpt2-small into HookedTransformer\n",
      "Moving model to device:  cpu\n"
     ]
    },
    {
     "data": {
      "application/vnd.jupyter.widget-view+json": {
       "model_id": "31b2a0fcdc904d3b8f663e9f6ffed2ce",
       "version_major": 2,
       "version_minor": 0
      },
      "text/plain": [
       "Saving the dataset (0/1 shards):   0%|          | 0/84 [00:00<?, ? examples/s]"
      ]
     },
     "metadata": {},
     "output_type": "display_data"
    },
    {
     "name": "stdout",
     "output_type": "stream",
     "text": [
      "Examining position key: ADJ\n",
      "Examining position key: ADJ\n",
      "kmeans final training loss: 0.0000\n",
      "\n",
      "Running pca probe...\n",
      "Cache for blocks.7.hook_resid_pre is incompatible with current configuration\n",
      "Cleared invalid cache directory\n"
     ]
    },
    {
     "name": "stderr",
     "output_type": "stream",
     "text": [
      "/Users/curttigges/Projects/probity/probity/collection/activation_store.py:116: FutureWarning: You are using `torch.load` with `weights_only=False` (the current default value), which uses the default pickle module implicitly. It is possible to construct malicious pickle data which will execute arbitrary code during unpickling (See https://github.com/pytorch/pytorch/blob/main/SECURITY.md#untrusted-models for more details). In a future release, the default value for `weights_only` will be flipped to `True`. This limits the functions that could be executed during unpickling. Arbitrary objects will no longer be allowed to be loaded via this mode unless they are explicitly allowlisted by the user via `torch.serialization.add_safe_globals`. We recommend you start setting `weights_only=True` for any use case where you don't have full control of the loaded file. Please open an issue on GitHub for any issues related to this experimental feature.\n",
      "  cache_data = torch.load(os.path.join(path, 'cache.pt'))\n"
     ]
    },
    {
     "name": "stdout",
     "output_type": "stream",
     "text": [
      "Loaded pretrained model gpt2-small into HookedTransformer\n",
      "Moving model to device:  cpu\n"
     ]
    },
    {
     "data": {
      "application/vnd.jupyter.widget-view+json": {
       "model_id": "165add5e86b9466ca4e6f1739e2db817",
       "version_major": 2,
       "version_minor": 0
      },
      "text/plain": [
       "Saving the dataset (0/1 shards):   0%|          | 0/84 [00:00<?, ? examples/s]"
      ]
     },
     "metadata": {},
     "output_type": "display_data"
    },
    {
     "name": "stdout",
     "output_type": "stream",
     "text": [
      "Examining position key: ADJ\n",
      "Examining position key: ADJ\n",
      "pca final training loss: 0.0001\n",
      "\n",
      "Running mean_diff probe...\n",
      "Cache for blocks.7.hook_resid_pre is incompatible with current configuration\n",
      "Cleared invalid cache directory\n"
     ]
    },
    {
     "name": "stderr",
     "output_type": "stream",
     "text": [
      "/Users/curttigges/Projects/probity/probity/collection/activation_store.py:116: FutureWarning: You are using `torch.load` with `weights_only=False` (the current default value), which uses the default pickle module implicitly. It is possible to construct malicious pickle data which will execute arbitrary code during unpickling (See https://github.com/pytorch/pytorch/blob/main/SECURITY.md#untrusted-models for more details). In a future release, the default value for `weights_only` will be flipped to `True`. This limits the functions that could be executed during unpickling. Arbitrary objects will no longer be allowed to be loaded via this mode unless they are explicitly allowlisted by the user via `torch.serialization.add_safe_globals`. We recommend you start setting `weights_only=True` for any use case where you don't have full control of the loaded file. Please open an issue on GitHub for any issues related to this experimental feature.\n",
      "  cache_data = torch.load(os.path.join(path, 'cache.pt'))\n"
     ]
    },
    {
     "name": "stdout",
     "output_type": "stream",
     "text": [
      "Loaded pretrained model gpt2-small into HookedTransformer\n",
      "Moving model to device:  cpu\n"
     ]
    },
    {
     "data": {
      "application/vnd.jupyter.widget-view+json": {
       "model_id": "0dd23c7485194ea09712e6e52038f554",
       "version_major": 2,
       "version_minor": 0
      },
      "text/plain": [
       "Saving the dataset (0/1 shards):   0%|          | 0/84 [00:00<?, ? examples/s]"
      ]
     },
     "metadata": {},
     "output_type": "display_data"
    },
    {
     "name": "stdout",
     "output_type": "stream",
     "text": [
      "Examining position key: ADJ\n",
      "Examining position key: ADJ\n",
      "mean_diff final training loss: 0.0000\n",
      "\n",
      "Cosine similarities between directions:\n",
      "            linear    \tlogistic  \tkmeans    \tpca       \tmean_diff \n",
      "linear    \t1.000     \t0.004     \t0.077     \t0.076     \t0.077     \n",
      "logistic  \t0.004     \t1.000     \t0.068     \t0.063     \t0.068     \n",
      "kmeans    \t0.077     \t0.068     \t1.000     \t0.993     \t1.000     \n",
      "pca       \t0.076     \t0.063     \t0.993     \t1.000     \t0.993     \n",
      "mean_diff \t0.077     \t0.068     \t1.000     \t0.993     \t1.000     \n"
     ]
    }
   ],
   "source": [
    "from typing import Dict, Type\n",
    "import torch\n",
    "from probity.collection.collectors import TransformerLensCollector, TransformerLensConfig\n",
    "from probity.probes.linear_probe import (\n",
    "    LinearProbe, LogisticProbe, KMeansProbe, PCAProbe, MeanDifferenceProbe,\n",
    "    LinearProbeConfig, LogisticProbeConfig, KMeansProbeConfig, PCAProbeConfig, MeanDiffProbeConfig\n",
    ")\n",
    "from probity.training.trainer import (\n",
    "    SupervisedProbeTrainer, \n",
    "    SupervisedTrainerConfig, \n",
    "    DirectionalProbeTrainer,\n",
    "    DirectionalTrainerConfig\n",
    ")\n",
    "from probity.pipeline.pipeline import ProbePipeline, ProbePipelineConfig\n",
    "import matplotlib.pyplot as plt\n",
    "\n",
    "# Example dataset setup (assuming you have this)\n",
    "dataset = tokenized_dataset\n",
    "\n",
    "# Model and hook point configuration\n",
    "model_name = \"gpt2-small\"\n",
    "hook_points = [\"blocks.7.hook_resid_pre\"]  # Examine first layer residual stream\n",
    "\n",
    "# Function to run different probe types and compare results\n",
    "def compare_probes(dataset, hidden_size: int = 768) -> Dict[str, torch.Tensor]:\n",
    "    \"\"\"Run all probe types and return their directions for comparison.\"\"\"\n",
    "    \n",
    "    # Common pipeline settings\n",
    "    base_config = {\n",
    "        \"dataset\": dataset,\n",
    "        \"position_key\": \"ADJ\",  # Or whatever position you're analyzing\n",
    "        \"model_name\": model_name,\n",
    "        \"hook_points\": hook_points,\n",
    "        \"cache_dir\": \"cache\"\n",
    "    }\n",
    "    \n",
    "    # Set up configurations for each probe type\n",
    "    probe_configs = {\n",
    "        \"linear\": (\n",
    "            LinearProbe,\n",
    "            LinearProbeConfig(loss_type=\"l1\", input_size=hidden_size),\n",
    "            SupervisedProbeTrainer\n",
    "        ),\n",
    "        \"logistic\": (\n",
    "            LogisticProbe,\n",
    "            LogisticProbeConfig(input_size=hidden_size),\n",
    "            SupervisedProbeTrainer\n",
    "        ),\n",
    "        \"kmeans\": (\n",
    "            KMeansProbe,\n",
    "            KMeansProbeConfig(input_size=hidden_size),\n",
    "            DirectionalProbeTrainer\n",
    "        ),\n",
    "        \"pca\": (\n",
    "            PCAProbe,\n",
    "            PCAProbeConfig(input_size=hidden_size),\n",
    "            DirectionalProbeTrainer\n",
    "        ),\n",
    "        \"mean_diff\": (\n",
    "            MeanDifferenceProbe,\n",
    "            MeanDiffProbeConfig(input_size=hidden_size),\n",
    "            DirectionalProbeTrainer\n",
    "        )\n",
    "    }\n",
    "    \n",
    "    directions = {}\n",
    "    \n",
    "    # Run each probe type\n",
    "    for name, (probe_cls, probe_config, trainer_cls) in probe_configs.items():\n",
    "        print(f\"\\nRunning {name} probe...\")\n",
    "        \n",
    "        # Create pipeline configuration\n",
    "        pipeline_config = ProbePipelineConfig(\n",
    "            **base_config,\n",
    "            probe_cls=probe_cls,\n",
    "            probe_config=probe_config,\n",
    "            trainer_cls=trainer_cls,\n",
    "            trainer_config=SupervisedTrainerConfig(  # Use the config class directly\n",
    "                batch_size=32,\n",
    "                learning_rate=1e-4,\n",
    "                num_epochs=20 if name in [\"linear\", \"logistic\"] else 1\n",
    "            ) if trainer_cls == SupervisedProbeTrainer else DirectionalTrainerConfig(\n",
    "                batch_size=32,\n",
    "                learning_rate=1e-3,\n",
    "                num_epochs=1\n",
    "            )\n",
    "        )\n",
    "        \n",
    "        # Run pipeline\n",
    "        pipeline = ProbePipeline(pipeline_config)\n",
    "        probe, history = pipeline.run()\n",
    "        \n",
    "        # save the probe direction to json\n",
    "        probe.save_json(f\"probes/{name}_direction.json\")\n",
    "\n",
    "        # if the probe is linear or logistic, plot the loss history\n",
    "        if name in [\"linear\", \"logistic\"]:\n",
    "            plt.figure(figsize=(10, 5))\n",
    "            plt.plot(history[\"train_loss\"], label='Train Loss')\n",
    "            plt.plot(history[\"val_loss\"], label='Validation Loss')\n",
    "            plt.xlabel('Epoch')\n",
    "            plt.ylabel('Loss')\n",
    "            plt.title(f'{name} Probe Training History')\n",
    "            plt.legend()\n",
    "            plt.show()\n",
    "\n",
    "        # Store direction\n",
    "        directions[name] = probe.get_direction()\n",
    "        \n",
    "        # Print some metrics from history\n",
    "        final_train_loss = history[\"train_loss\"][-1]\n",
    "        print(f\"{name} final training loss: {final_train_loss:.4f}\")\n",
    "        \n",
    "    return directions\n",
    "\n",
    "# Run comparison\n",
    "directions = compare_probes(dataset)\n",
    "\n",
    "# Analyze similarity between directions\n",
    "def compare_directions(directions: Dict[str, torch.Tensor]) -> None:\n",
    "    \"\"\"Compare the similarity of directions found by different methods.\"\"\"\n",
    "    names = list(directions.keys())\n",
    "    print(\"\\nCosine similarities between directions:\")\n",
    "    print(\" \" * 12 + \"\\t\".join(f\"{name:10}\" for name in names))\n",
    "    \n",
    "    for i, name1 in enumerate(names):\n",
    "        similarities = []\n",
    "        for j, name2 in enumerate(names):\n",
    "            dir1 = directions[name1]\n",
    "            dir2 = directions[name2]\n",
    "            \n",
    "            # Calculate cosine similarity\n",
    "            similarity = torch.nn.functional.cosine_similarity(\n",
    "                dir1.unsqueeze(0), \n",
    "                dir2.unsqueeze(0)\n",
    "            ).item()\n",
    "            similarities.append(f\"{similarity:.3f}\")\n",
    "            \n",
    "        print(f\"{name1:10}\\t\" + \"\\t\".join(f\"{sim:10}\" for sim in similarities))\n",
    "\n",
    "# Compare directions\n",
    "compare_directions(directions)\n",
    "\n"
   ]
  },
  {
   "cell_type": "code",
   "execution_count": null,
   "metadata": {},
   "outputs": [],
   "source": [
    "# Example of using a single probe type\n",
    "def run_single_probe(\n",
    "    dataset,\n",
    "    probe_type: str = \"logistic\",\n",
    "    hidden_size: int = 768\n",
    ") -> torch.Tensor:\n",
    "    \"\"\"Run a single probe type on the dataset.\"\"\"\n",
    "    \n",
    "    # Probe type mapping\n",
    "    probe_mapping = {\n",
    "        \"linear\": (LinearProbe, LinearProbeConfig, SupervisedProbeTrainer),\n",
    "        \"logistic\": (LogisticProbe, LogisticProbeConfig, SupervisedProbeTrainer),\n",
    "        \"kmeans\": (KMeansProbe, KMeansProbeConfig, DirectionalProbeTrainer),\n",
    "        \"pca\": (PCAProbe, PCAProbeConfig, DirectionalProbeTrainer),\n",
    "        \"mean_diff\": (MeanDifferenceProbe, MeanDiffProbeConfig, DirectionalProbeTrainer)\n",
    "    }\n",
    "    \n",
    "    if probe_type not in probe_mapping:\n",
    "        raise ValueError(f\"Unknown probe type: {probe_type}\")\n",
    "        \n",
    "    probe_cls, config_cls, trainer_cls = probe_mapping[probe_type]\n",
    "    \n",
    "    # Create pipeline configuration\n",
    "    pipeline_config = ProbePipelineConfig(\n",
    "        dataset=dataset,\n",
    "        probe_cls=probe_cls,\n",
    "        probe_config=config_cls(input_size=hidden_size),\n",
    "        trainer_cls=trainer_cls,\n",
    "        trainer_config=SupervisedTrainerConfig(  # Use the config class directly\n",
    "            batch_size=32,\n",
    "            learning_rate=1e-3,\n",
    "            num_epochs=10 if probe_type in [\"linear\", \"logistic\"] else 1\n",
    "        ) if trainer_cls == SupervisedProbeTrainer else DirectionalTrainerConfig(\n",
    "            batch_size=32,\n",
    "            learning_rate=1e-3,\n",
    "            num_epochs=1\n",
    "        ),\n",
    "        position_key=\"ADJ\",\n",
    "        model_name=model_name,\n",
    "        hook_points=hook_points,\n",
    "        cache_dir=\"cache\"\n",
    "    )\n",
    "    \n",
    "    # Run pipeline\n",
    "    pipeline = ProbePipeline(pipeline_config)\n",
    "    probe, history = pipeline.run()\n",
    "\n",
    "    \n",
    "    return probe.get_direction()"
   ]
  },
  {
   "cell_type": "code",
   "execution_count": 7,
   "metadata": {},
   "outputs": [
    {
     "ename": "AttributeError",
     "evalue": "type object 'SupervisedProbeTrainer' has no attribute 'Config'",
     "output_type": "error",
     "traceback": [
      "\u001b[0;31m---------------------------------------------------------------------------\u001b[0m",
      "\u001b[0;31mAttributeError\u001b[0m                            Traceback (most recent call last)",
      "Cell \u001b[0;32mIn[7], line 2\u001b[0m\n\u001b[1;32m      1\u001b[0m \u001b[38;5;66;03m# Example usage of single probe\u001b[39;00m\n\u001b[0;32m----> 2\u001b[0m logistic_direction \u001b[38;5;241m=\u001b[39m \u001b[43mrun_single_probe\u001b[49m\u001b[43m(\u001b[49m\u001b[43mdataset\u001b[49m\u001b[43m,\u001b[49m\u001b[43m \u001b[49m\u001b[38;5;124;43m\"\u001b[39;49m\u001b[38;5;124;43mlogistic\u001b[39;49m\u001b[38;5;124;43m\"\u001b[39;49m\u001b[43m)\u001b[49m\n\u001b[1;32m      3\u001b[0m kmeans_direction \u001b[38;5;241m=\u001b[39m run_single_probe(dataset, \u001b[38;5;124m\"\u001b[39m\u001b[38;5;124mkmeans\u001b[39m\u001b[38;5;124m\"\u001b[39m)\n",
      "Cell \u001b[0;32mIn[6], line 151\u001b[0m, in \u001b[0;36mrun_single_probe\u001b[0;34m(dataset, probe_type, hidden_size)\u001b[0m\n\u001b[1;32m    143\u001b[0m probe_cls, config_cls, trainer_cls \u001b[38;5;241m=\u001b[39m probe_mapping[probe_type]\n\u001b[1;32m    145\u001b[0m \u001b[38;5;66;03m# Create pipeline configuration\u001b[39;00m\n\u001b[1;32m    146\u001b[0m pipeline_config \u001b[38;5;241m=\u001b[39m ProbePipelineConfig(\n\u001b[1;32m    147\u001b[0m     dataset\u001b[38;5;241m=\u001b[39mdataset,\n\u001b[1;32m    148\u001b[0m     probe_cls\u001b[38;5;241m=\u001b[39mprobe_cls,\n\u001b[1;32m    149\u001b[0m     probe_config\u001b[38;5;241m=\u001b[39mconfig_cls(input_size\u001b[38;5;241m=\u001b[39mhidden_size),\n\u001b[1;32m    150\u001b[0m     trainer_cls\u001b[38;5;241m=\u001b[39mtrainer_cls,\n\u001b[0;32m--> 151\u001b[0m     trainer_config\u001b[38;5;241m=\u001b[39m\u001b[43mtrainer_cls\u001b[49m\u001b[38;5;241;43m.\u001b[39;49m\u001b[43mConfig\u001b[49m(\n\u001b[1;32m    152\u001b[0m         batch_size\u001b[38;5;241m=\u001b[39m\u001b[38;5;241m32\u001b[39m,\n\u001b[1;32m    153\u001b[0m         learning_rate\u001b[38;5;241m=\u001b[39m\u001b[38;5;241m1e-3\u001b[39m,\n\u001b[1;32m    154\u001b[0m         num_epochs\u001b[38;5;241m=\u001b[39m\u001b[38;5;241m10\u001b[39m \u001b[38;5;28;01mif\u001b[39;00m probe_type \u001b[38;5;241m==\u001b[39m \u001b[38;5;124m\"\u001b[39m\u001b[38;5;124mlogistic\u001b[39m\u001b[38;5;124m\"\u001b[39m \u001b[38;5;28;01melse\u001b[39;00m \u001b[38;5;241m1\u001b[39m\n\u001b[1;32m    155\u001b[0m     ),\n\u001b[1;32m    156\u001b[0m     position_key\u001b[38;5;241m=\u001b[39m\u001b[38;5;124m\"\u001b[39m\u001b[38;5;124mADJ\u001b[39m\u001b[38;5;124m\"\u001b[39m,\n\u001b[1;32m    157\u001b[0m     model_name\u001b[38;5;241m=\u001b[39mmodel_name,\n\u001b[1;32m    158\u001b[0m     hook_points\u001b[38;5;241m=\u001b[39mhook_points,\n\u001b[1;32m    159\u001b[0m     cache_dir\u001b[38;5;241m=\u001b[39m\u001b[38;5;124m\"\u001b[39m\u001b[38;5;124mcache\u001b[39m\u001b[38;5;124m\"\u001b[39m\n\u001b[1;32m    160\u001b[0m )\n\u001b[1;32m    162\u001b[0m \u001b[38;5;66;03m# Run pipeline\u001b[39;00m\n\u001b[1;32m    163\u001b[0m pipeline \u001b[38;5;241m=\u001b[39m ProbePipeline(pipeline_config)\n",
      "\u001b[0;31mAttributeError\u001b[0m: type object 'SupervisedProbeTrainer' has no attribute 'Config'"
     ]
    }
   ],
   "source": [
    "# Example usage of single probe\n",
    "logistic_direction = run_single_probe(dataset, \"logistic\")\n",
    "kmeans_direction = run_single_probe(dataset, \"kmeans\")"
   ]
  },
  {
   "cell_type": "code",
   "execution_count": null,
   "metadata": {},
   "outputs": [],
   "source": []
  }
 ],
 "metadata": {
  "kernelspec": {
   "display_name": "sae-l",
   "language": "python",
   "name": "python3"
  },
  "language_info": {
   "codemirror_mode": {
    "name": "ipython",
    "version": 3
   },
   "file_extension": ".py",
   "mimetype": "text/x-python",
   "name": "python",
   "nbconvert_exporter": "python",
   "pygments_lexer": "ipython3",
   "version": "3.12.4"
  }
 },
 "nbformat": 4,
 "nbformat_minor": 2
}
